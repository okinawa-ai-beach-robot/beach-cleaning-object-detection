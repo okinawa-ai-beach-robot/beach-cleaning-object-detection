{
 "cells": [
  {
   "cell_type": "markdown",
   "id": "290adc0c",
   "metadata": {},
   "source": [
    "## Install Roboflow Through PIP:\n",
    "(not necessary, you can just export on roboflow as yolov5 dataset, and unpack the zip file)"
   ]
  },
  {
   "cell_type": "code",
   "execution_count": null,
   "id": "f718a4d5",
   "metadata": {},
   "outputs": [],
   "source": [
    "!pip install roboflow"
   ]
  },
  {
   "cell_type": "markdown",
   "id": "345d8496",
   "metadata": {},
   "source": [
    "## Download Dataset:\n",
    " * API key can be retrieved from the webpage after login\n",
    " * Alternatively, the dataset can be exported on the webpage direclty as zip file"
   ]
  },
  {
   "cell_type": "code",
   "execution_count": null,
   "id": "8c40ceeb",
   "metadata": {},
   "outputs": [],
   "source": [
    "from roboflow import Roboflow\n",
    "\n",
    "\n",
    "rf = Roboflow(api_key=\"[enterhere!!]\")\n",
    "project = rf.workspace(\"stinkballs\").project(\"trash-detection-8zhhs\")\n",
    "dataset = project.version(2).download(\"yolov5\")\n"
   ]
  },
  {
   "cell_type": "markdown",
   "id": "8a520772",
   "metadata": {},
   "source": [
    "## Print Dataset Configuration:\n",
    "* Structure:\n",
    "    - data.yaml: Path definitions, relative to yolo source folder!\n",
    "    - Class definitions (number, list)\n",
    "    - Meta information\n",
    "* Data Folders:\n",
    "    - Subfolder images contains training image data\n",
    "    - Subfolder labels contains txt file for each image: multiple lines of format: [cmlass number] rect:[center_x,center_y,width,heigt] in ratio to image width/height "
   ]
  },
  {
   "cell_type": "code",
   "execution_count": null,
   "id": "7c1a94d8",
   "metadata": {},
   "outputs": [],
   "source": [
    "import yaml\n",
    "with open(dataset.location + \"/data.yaml\", 'r') as stream:\n",
    "    num_classes = str(yaml.safe_load(stream)['nc'])"
   ]
  }
 ],
 "metadata": {
  "kernelspec": {
   "display_name": "Python 3 (ipykernel)",
   "language": "python",
   "name": "python3"
  },
  "language_info": {
   "codemirror_mode": {
    "name": "ipython",
    "version": 3
   },
   "file_extension": ".py",
   "mimetype": "text/x-python",
   "name": "python",
   "nbconvert_exporter": "python",
   "pygments_lexer": "ipython3",
   "version": "3.11.6"
  }
 },
 "nbformat": 4,
 "nbformat_minor": 5
}
