{
 "cells": [
  {
   "cell_type": "code",
   "execution_count": null,
   "id": "9e77f567",
   "metadata": {},
   "outputs": [],
   "source": [
    "import sys, os\n",
    "\n",
    "# unzipped download from webpage:\n",
    "dataset_location = \"../Datasets/beach-cleaning-object-detection.v1i.yolov5pytorch/\"\n",
    "print(\"Dataset direcory is:\", dataset_location)\n",
    "\n",
    "\n",
    "yolopath = \"../yolov5/\" # utils.__file__.replace(os.getcwd()+\"/\",'').split('utils')[0]\n",
    "print(\"yolo base direcoty is:\", yolopath)\n",
    "\n",
    "sys.path.append(yolopath) # add yolo code folder\n",
    "import utils\n"
   ]
  },
  {
   "cell_type": "code",
   "execution_count": null,
   "id": "f3c8db5a-90b7-4f8b-ac52-70203578268a",
   "metadata": {},
   "outputs": [],
   "source": [
    "#customize iPython writefile so we can write variables in cells, like {num_classes}\n",
    "from IPython.core.magic import register_line_cell_magic\n",
    "\n",
    "@register_line_cell_magic\n",
    "def writetemplate(line, cell):\n",
    "    with open(line, 'w') as f:\n",
    "        f.write(cell.format(**globals()))"
   ]
  },
  {
   "cell_type": "markdown",
   "id": "4d3489d0",
   "metadata": {},
   "source": [
    "## Read dataset information:"
   ]
  },
  {
   "cell_type": "code",
   "execution_count": null,
   "id": "c9e2d8ea",
   "metadata": {},
   "outputs": [],
   "source": [
    "# read number of classes based on YAML config file:\n",
    "import yaml\n",
    "with open(dataset_location + \"/data.yaml\", 'r') as stream:\n",
    "    data_cfg = yaml.safe_load(stream)\n",
    "    num_classes = str(data_cfg['nc'])\n",
    "    list_classes = data_cfg['names']\n",
    "    print(\"Dataset defines\", num_classes, \"classes ->\\n\", list_classes)\n",
    "    "
   ]
  },
  {
   "cell_type": "markdown",
   "id": "caf41060",
   "metadata": {},
   "source": [
    "## Update path information for yolo training:"
   ]
  },
  {
   "cell_type": "code",
   "execution_count": null,
   "id": "edc3bfdb",
   "metadata": {},
   "outputs": [],
   "source": [
    "# read current config:\n",
    "with open(dataset_location + \"/data.yaml\", 'r') as stream:\n",
    "    data_cfg = yaml.safe_load(stream)\n",
    "    \n",
    "#modifiy path relative to yolo source folder:\n",
    "data_cfg['train']=dataset_location + \"/train/images\"\n",
    "data_cfg['val']=dataset_location + \"/valid/images\"\n",
    "data_cfg['test']=dataset_location + \"/test/images\"\n",
    "    \n",
    "# write modified config:\n",
    "with open(dataset_location + \"/data.yaml\", 'w') as file:\n",
    "    yaml.dump(data_cfg, file)"
   ]
  },
  {
   "cell_type": "code",
   "execution_count": null,
   "id": "394a505f",
   "metadata": {},
   "outputs": [],
   "source": [
    "#this is the final dataset configuration file:\n",
    "%cat {dataset_location}/data.yaml"
   ]
  },
  {
   "cell_type": "code",
   "execution_count": null,
   "id": "204a1a88",
   "metadata": {},
   "outputs": [],
   "source": [
    "#this is the model configuration we will use\n",
    "%cat {yolopath}/models/yolov5s.yaml"
   ]
  },
  {
   "cell_type": "markdown",
   "id": "c05229ec-dffb-43b4-848a-691a873a8dfe",
   "metadata": {},
   "source": [
    "## Write model configuration file for yolo training:"
   ]
  },
  {
   "cell_type": "code",
   "execution_count": null,
   "id": "4dd6e2a2",
   "metadata": {},
   "outputs": [],
   "source": [
    "%%writetemplate {yolopath}/models/beachbot_yolov5s.yaml\n",
    "\n",
    "# parameters\n",
    "nc: {num_classes}  # number of classes\n",
    "depth_multiple: 0.33  # model depth multiple\n",
    "width_multiple: 0.50  # layer channel multiple\n",
    "\n",
    "# anchors\n",
    "anchors:\n",
    "  - [10,13, 16,30, 33,23]  # P3/8\n",
    "  - [30,61, 62,45, 59,119]  # P4/16\n",
    "  - [116,90, 156,198, 373,326]  # P5/32\n",
    "\n",
    "# YOLOv5 backbone\n",
    "backbone:\n",
    "  # [from, number, module, args]\n",
    "  [[-1, 1, Focus, [64, 3]],  # 0-P1/2\n",
    "   [-1, 1, Conv, [128, 3, 2]],  # 1-P2/4\n",
    "   [-1, 3, BottleneckCSP, [128]],\n",
    "   [-1, 1, Conv, [256, 3, 2]],  # 3-P3/8\n",
    "   [-1, 9, BottleneckCSP, [256]],\n",
    "   [-1, 1, Conv, [512, 3, 2]],  # 5-P4/16\n",
    "   [-1, 9, BottleneckCSP, [512]],\n",
    "   [-1, 1, Conv, [1024, 3, 2]],  # 7-P5/32\n",
    "   [-1, 1, SPP, [1024, [5, 9, 13]]],\n",
    "   [-1, 3, BottleneckCSP, [1024, False]],  # 9\n",
    "  ]\n",
    "\n",
    "# YOLOv5 head\n",
    "head:\n",
    "  [[-1, 1, Conv, [512, 1, 1]],\n",
    "   [-1, 1, nn.Upsample, [None, 2, 'nearest']],\n",
    "   [[-1, 6], 1, Concat, [1]],  # cat backbone P4\n",
    "   [-1, 3, BottleneckCSP, [512, False]],  # 13\n",
    "\n",
    "   [-1, 1, Conv, [256, 1, 1]],\n",
    "   [-1, 1, nn.Upsample, [None, 2, 'nearest']],\n",
    "   [[-1, 4], 1, Concat, [1]],  # cat backbone P3\n",
    "   [-1, 3, BottleneckCSP, [256, False]],  # 17 (P3/8-small)\n",
    "\n",
    "   [-1, 1, Conv, [256, 3, 2]],\n",
    "   [[-1, 14], 1, Concat, [1]],  # cat head P4\n",
    "   [-1, 3, BottleneckCSP, [512, False]],  # 20 (P4/16-medium)\n",
    "\n",
    "   [-1, 1, Conv, [512, 3, 2]],\n",
    "   [[-1, 10], 1, Concat, [1]],  # cat head P5\n",
    "   [-1, 3, BottleneckCSP, [1024, False]],  # 23 (P5/32-large)\n",
    "\n",
    "   [[17, 20, 23], 1, Detect, [nc, anchors]],  # Detect(P3, P4, P5)\n",
    "  ]"
   ]
  },
  {
   "cell_type": "code",
   "execution_count": null,
   "id": "6b3c20e5",
   "metadata": {},
   "outputs": [],
   "source": [
    "## Enter yolo source directory and start training:"
   ]
  },
  {
   "cell_type": "code",
   "execution_count": null,
   "id": "91beded5",
   "metadata": {},
   "outputs": [],
   "source": [
    "from subprocess import call\n",
    "eval_img_widths = [1280, 640, 320, 160]\n",
    "num_epochs = 200\n",
    "\n",
    "for img_width in eval_img_widths:\n",
    "    targetfolder = \"beachbot_yolov5s_\" + str(img_width)\n",
    "    #check if solder exists -> skip computation!\n",
    "    if os.path.isdir(yolopath + targetfolder + \"_results\"):\n",
    "        print(\"Skipping run\", img_width, \":\", targetfolder, \"exists!\")\n",
    "    else:\n",
    "        print(\"Start run\", img_width)\n",
    "        params=(\"--img \" + str(img_width) + \" --batch 16 --epochs \" + str(num_epochs) + \" --data \" + dataset_location + \"/data.yaml --cfg \" + yolopath + \"/models/beachbot_yolov5s.yaml --weights '' --name \" + targetfolder + \"_results  --cache\").split()\n",
    "        call([\"python\", yolopath+\"train.py\"] + params)\n"
   ]
  }
 ],
 "metadata": {
  "kernelspec": {
   "display_name": "Python 3 (ipykernel)",
   "language": "python",
   "name": "python3"
  },
  "language_info": {
   "codemirror_mode": {
    "name": "ipython",
    "version": 3
   },
   "file_extension": ".py",
   "mimetype": "text/x-python",
   "name": "python",
   "nbconvert_exporter": "python",
   "pygments_lexer": "ipython3",
   "version": "3.11.5"
  }
 },
 "nbformat": 4,
 "nbformat_minor": 5
}
