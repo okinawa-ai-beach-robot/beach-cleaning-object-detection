{
 "cells": [
  {
   "cell_type": "code",
   "execution_count": null,
   "id": "9e77f567",
   "metadata": {},
   "outputs": [],
   "source": [
    "import sys, os\n",
    "from pprint import pprint\n",
    "import shutil\n",
    "from subprocess import call\n",
    "\n",
    "# Define dataset:\n",
    "# Unzipped download from roboflow webpage:\n",
    "dataset_location = \"../Datasets/trash_detection.minimal_example.yolov5pytorch/\"\n",
    "# or; dataset_location = \"../Datasets/beach-cleaning-object-detection.v1i.yolov5pytorch/\"\n",
    "\n",
    "# Define model variant:\n",
    "yolo_modeltype = \"yolov5s\"\n",
    "\n",
    "# Define path to yolo github repository:\n",
    "yolo_path = \"../yolov5/\"\n",
    "\n",
    "# Generate dataset id string for result folder\n",
    "for did in reversed(dataset_location.split(\"/\")):\n",
    "    if len(did)>0:\n",
    "        dataset_id=did.replace(\".\",\"__\")\n",
    "        break\n",
    "\n",
    "\n",
    "\n",
    "# Add yolo code folder to python, and import their utils class:\n",
    "sys.path.append(yolo_path) \n",
    "try:\n",
    "    import utils\n",
    "except Exception as ex:\n",
    "    print(\"Error:\", ex, \"\\n\\n\")\n",
    "    print(\"Check if current path is in folder 'Networks', yolov5 was downloaded from git, and that yolov5 is located in correct (git-root) folder.\")\n",
    "    print(\"It may be necessary to click Kernel->Restart and try again...\")\n",
    "    \n"
   ]
  },
  {
   "cell_type": "markdown",
   "id": "4d3489d0",
   "metadata": {},
   "source": [
    "## Read dataset information:"
   ]
  },
  {
   "cell_type": "code",
   "execution_count": null,
   "id": "c9e2d8ea",
   "metadata": {},
   "outputs": [],
   "source": [
    "# Read number of classes based on YAML config file:\n",
    "import yaml\n",
    "with open(dataset_location + \"/data.yaml\", 'r') as stream:\n",
    "    data_cfg = yaml.safe_load(stream)\n",
    "    num_classes = str(data_cfg['nc'])\n",
    "    list_classes = data_cfg['names']\n",
    "\n",
    "# Print information:\n",
    "print(\"Current configuration:\")\n",
    "print(\"Dataset directory is:\", dataset_location)\n",
    "print(\"Yolo base directoy is:\", yolo_path)    \n",
    "print(\"Dataset defines\", num_classes, \"classes ->\\n\", list_classes)\n",
    "print (\"Dataset id for saved results is:\", dataset_id)\n",
    "    "
   ]
  },
  {
   "cell_type": "markdown",
   "id": "caf41060",
   "metadata": {},
   "source": [
    "## Update path information in dataset for yolo training:"
   ]
  },
  {
   "cell_type": "code",
   "execution_count": null,
   "id": "edc3bfdb",
   "metadata": {},
   "outputs": [],
   "source": [
    "# Read current dataset config:\n",
    "with open(dataset_location + \"/data.yaml\", 'r') as stream:\n",
    "    data_cfg = yaml.safe_load(stream)\n",
    "    \n",
    "# Modifiy path relative to our working directory:\n",
    "data_cfg['train']=dataset_location + \"/train/images\"\n",
    "data_cfg['val']=dataset_location + \"/valid/images\"\n",
    "data_cfg['test']=dataset_location + \"/test/images\"\n",
    "    \n",
    "# Write modified dataset config:\n",
    "with open(dataset_location + \"/data.yaml\", 'w') as file:\n",
    "    yaml.dump(data_cfg, file)"
   ]
  },
  {
   "cell_type": "code",
   "execution_count": null,
   "id": "394a505f",
   "metadata": {},
   "outputs": [],
   "source": [
    "# This is the final dataset configuration file:\n",
    "file = open(dataset_location + \"/data.yaml\", \"r\")\n",
    "content=file.read()\n",
    "print(\"Modified dataset config file is:\")\n",
    "print(content)\n",
    "file.close()"
   ]
  },
  {
   "cell_type": "code",
   "execution_count": null,
   "id": "204a1a88",
   "metadata": {},
   "outputs": [],
   "source": [
    "# load the model configuration we will use\n",
    "\n",
    "with open(yolo_path + \"/models/\" + yolo_modeltype + \".yaml\", 'r') as stream:\n",
    "    model_def = yaml.safe_load(stream)\n",
    "\n",
    "print(\"Original model configuration is:\")\n",
    "pprint(model_def)\n"
   ]
  },
  {
   "cell_type": "markdown",
   "id": "c05229ec-dffb-43b4-848a-691a873a8dfe",
   "metadata": {},
   "source": [
    "## Write model configuration file for yolo training:"
   ]
  },
  {
   "cell_type": "code",
   "execution_count": null,
   "id": "4dd6e2a2",
   "metadata": {},
   "outputs": [],
   "source": [
    "# modify number of classes for training:\n",
    "model_def['nc']=num_classes\n",
    "    \n",
    "# write modified config:\n",
    "with open(yolo_path + \"/models/beachbot_\" + yolo_modeltype + \".yaml\", 'w') as file:\n",
    "    yaml.dump(model_def, file)\n",
    "    \n",
    "print(\"Modified model configuration is:\")\n",
    "pprint(model_def)\n"
   ]
  },
  {
   "cell_type": "markdown",
   "id": "2f52e243",
   "metadata": {},
   "source": [
    "## Start training and collect models\n",
    "* trained models are stored in folder: beach-cleaning-object-detection/Models/"
   ]
  },
  {
   "cell_type": "code",
   "execution_count": null,
   "id": "91beded5",
   "metadata": {},
   "outputs": [],
   "source": [
    "\n",
    "eval_img_widths = [1280, 640, 320, 160]\n",
    "num_epochs = 400\n",
    "\n",
    "for img_width in reversed(eval_img_widths):\n",
    "    targetfolder = \"beachbot_\" + yolo_modeltype + \"_\" + dataset_id + \"_\" + str(img_width)\n",
    "    targetpath = yolo_path + \"runs/train/\" + targetfolder + \"_results/\"\n",
    "    resultspath = \"../Models/\" + targetfolder + \"/\"\n",
    "    #check if solder exists -> skip computation!\n",
    "    if os.path.isdir(targetpath) or os.path.isdir(resultspath):\n",
    "        print(\"Skipping run\", img_width, \":\", targetfolder, \" or\", resultspath,  \" (resultfolders) exist!\")\n",
    "    else:\n",
    "        print(\"Start run\", img_width)\n",
    "        params=(\"--img \" + str(img_width) + \" --batch 16 --epochs \" + str(num_epochs) + \" --data \" + dataset_location + \"/data.yaml --cfg \" + yolo_path + \"/models/beachbot_\" + yolo_modeltype + \".yaml --weights '' --name \" + targetfolder + \"_results  --cache\").split()\n",
    "        call([\"python\", yolo_path+\"train.py\"] + params)\n",
    "        \n",
    "        # Training done\n",
    "        # Following files in targetfolder are important:\n",
    "        # weights/best.pt \n",
    "        # weights/last.pt\n",
    "        # results.csv\n",
    "        resultfiles = [\"weights/best.pt\",\"weights/last.pt\",\"results.csv\"]\n",
    "\n",
    "        # Create results folder\n",
    "        try: \n",
    "            os.makedirs(resultspath, exist_ok = True) \n",
    "            print(\"Trained model will be saved at:\", resultspath) \n",
    "        except OSError as error: \n",
    "            print(\"Trained model will update files in:\", resultspath) \n",
    "\n",
    "        # Save model config in result folder\n",
    "        with open(resultspath + \"model.yaml\", 'w') as file:\n",
    "            yaml.dump(model_def, file)\n",
    "\n",
    "        # Copy train result data:\n",
    "        for fname in resultfiles:\n",
    "            shutil.copy(targetpath + fname, resultspath)\n",
    "\n",
    "        # Export best model in ONNX format\n",
    "        # export image dimension must be multiple of 32:\n",
    "        img_width_export = int((img_width//32)*32)\n",
    "        img_heigt =  round((img_width*800.0)/1280.0)\n",
    "        img_heigt_export = int((img_heigt//32)*32)\n",
    "        #write file with export information\n",
    "        data = dict(\n",
    "            img_width = img_width,\n",
    "            img_width_export = img_width_export,\n",
    "            img_heigt = img_heigt,\n",
    "            img_heigt_export = img_heigt_export\n",
    "        )\n",
    "        with open(resultspath + \"export_info.yaml\", 'w') as outfile:\n",
    "            yaml.dump(data, outfile, default_flow_style=False)\n",
    "\n",
    "        # Convert model to onnx:\n",
    "        params_export = (\"--weights \" + resultspath + \"best.pt  --img \" + str(img_heigt_export) + \" \" + str(img_width_export) + \" --include onnx\").split() \n",
    "        call([\"python\", yolo_path+\"export.py\"] + params_export)\n",
    "        \n",
    "            \n",
    "            \n",
    "        \n"
   ]
  }
 ],
 "metadata": {
  "kernelspec": {
   "display_name": "Python 3 (ipykernel)",
   "language": "python",
   "name": "python3"
  },
  "language_info": {
   "codemirror_mode": {
    "name": "ipython",
    "version": 3
   },
   "file_extension": ".py",
   "mimetype": "text/x-python",
   "name": "python",
   "nbconvert_exporter": "python",
   "pygments_lexer": "ipython3",
   "version": "3.11.6"
  }
 },
 "nbformat": 4,
 "nbformat_minor": 5
}
