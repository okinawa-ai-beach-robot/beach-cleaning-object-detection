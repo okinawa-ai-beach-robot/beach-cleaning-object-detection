{
 "cells": [
  {
   "cell_type": "code",
   "execution_count": null,
   "metadata": {},
   "outputs": [],
   "source": [
    "import os\n",
    "import numpy as np\n",
    "import matplotlib.pyplot as plt\n",
    "import math\n",
    "\n",
    "resultspath = \"../Models/\"\n",
    "\n",
    "subfolders = [ f.path for f in os.scandir(resultspath) if f.is_dir() ]\n",
    "\n",
    "# filter datasets by name:\n",
    "sel_subfolders=[]\n",
    "for f in subfolders:\n",
    "    if \"__v2i__\" in f or \"__v3\" in f:\n",
    "        sel_subfolders.append(f)\n",
    "subfolders = sel_subfolders\n",
    "    \n",
    "\n",
    "print(subfolders)"
   ]
  },
  {
   "cell_type": "code",
   "execution_count": null,
   "metadata": {},
   "outputs": [],
   "source": [
    "dataentries={}\n",
    "\n",
    "for f in subfolders:\n",
    "    ename = f.split(\"/\")[-1]\n",
    "    # using loadtxt()\n",
    "    arr = np.loadtxt(f + \"/results.csv\",delimiter=\",\", dtype=str)\n",
    "    arrdata = arr[1:,:].astype(float)\n",
    "    dataentries[ename] = arrdata\n",
    "\n",
    "namelist = [e.replace(\" \", \"\") for e in list(arr[0,:])]\n",
    "\n",
    "    "
   ]
  },
  {
   "cell_type": "code",
   "execution_count": null,
   "metadata": {},
   "outputs": [],
   "source": [
    "def plot_dat(num, dat, ax=None):\n",
    "    phandles=[]\n",
    "    if ax is None:\n",
    "        plt.figure()\n",
    "        ax = plt.gca()\n",
    "    for k in dat.keys():\n",
    "        kdat = dat[k]\n",
    "        phandles.append(ax.plot(kdat[:,0], kdat[:,num], label=k))\n",
    "    return phandles\n",
    "\n",
    "        \n",
    "    \n",
    "    "
   ]
  },
  {
   "cell_type": "markdown",
   "metadata": {},
   "source": [
    "## Loss comparison:\n",
    "- box_loss — bounding box regression loss (Mean Squared Error).\n",
    "- obj_loss — the confidence of object presence is the objectness loss.\n",
    "- cls_loss — the classification loss (Cross Entropy)."
   ]
  },
  {
   "cell_type": "code",
   "execution_count": null,
   "metadata": {},
   "outputs": [],
   "source": [
    "num_plots=len(namelist)\n",
    "\n",
    "pl_w = math.floor(math.sqrt(num_plots))\n",
    "pl_h = math.ceil(num_plots/pl_w)\n",
    "\n",
    "fig, axs = plt.subplots(pl_h+1,pl_w, sharex=True, figsize=(12,12))\n",
    "\n",
    "for ni, nistr in enumerate(namelist[1:]):\n",
    "    widx = ni//pl_w\n",
    "    hidx = ni - (widx*pl_w)\n",
    "    myax = axs[widx, hidx]\n",
    "    phandles = plot_dat(ni+1,dataentries,myax)\n",
    "    myax.set_title(namelist[ni+1])\n",
    "\n",
    "phandles = [ph[0] for ph in phandles]\n",
    "axs[-2,0].legend(handles=phandles, labels=list(dataentries.keys()), loc='upper left', fancybox=True, shadow=True, bbox_to_anchor=(-0.0, -0.1))\n",
    "\n",
    "\n",
    "for axs in axs[-1,:]:\n",
    "    axs.set_axis_off()\n",
    "    \n",
    "plt.savefig(\"train_comparison.png\")\n",
    "plt.savefig(\"train_comparison.pdf\")\n",
    "\n"
   ]
  },
  {
   "cell_type": "code",
   "execution_count": null,
   "metadata": {},
   "outputs": [],
   "source": [
    "phandles"
   ]
  },
  {
   "cell_type": "code",
   "execution_count": null,
   "metadata": {},
   "outputs": [],
   "source": []
  }
 ],
 "metadata": {
  "kernelspec": {
   "display_name": "BeachBot",
   "language": "python",
   "name": "beachbot"
  },
  "language_info": {
   "codemirror_mode": {
    "name": "ipython",
    "version": 3
   },
   "file_extension": ".py",
   "mimetype": "text/x-python",
   "name": "python",
   "nbconvert_exporter": "python",
   "pygments_lexer": "ipython3",
   "version": "3.11.5"
  }
 },
 "nbformat": 4,
 "nbformat_minor": 2
}
