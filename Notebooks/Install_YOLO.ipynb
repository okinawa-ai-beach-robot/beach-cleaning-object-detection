{
 "cells": [
  {
   "cell_type": "markdown",
   "metadata": {},
   "source": [
    "## Download YOLO5:\n",
    "- clone git repository\n",
    "- checkout specific version\n",
    "- eqivalent to execution of:\n",
    "    1. `cd beach-cleaning-object-detection/Notebooks/`\n",
    "    2. `git clone https://github.com/ultralytics/yolov5 ../yolov5`"
   ]
  },
  {
   "cell_type": "code",
   "execution_count": null,
   "metadata": {},
   "outputs": [],
   "source": [
    "# clone YOLOv5 repository (latest version):\n",
    "\n",
    "!git clone https://github.com/ultralytics/yolov5 ../yolov5  \n",
    "\n",
    "# Original roboflow code took fixed old version, lets take the most up-to-date version:\n",
    "# !git reset --hard 064365d8683fd002e9ad789c1e91fa3d021b44f0 ##TODO consider using latest version"
   ]
  },
  {
   "cell_type": "markdown",
   "metadata": {},
   "source": [
    "## Install required python packages:\n",
    "- assumes `cd yolov5` was executed before\n",
    "- installs pytorch\n",
    "- installs requirements for yolo (takes a while, no status output, alternatively execute `pip install -r requirements.txt` in yolov5 folder)\n",
    "- Optional: Check file `yolov5/requirements.txt` there are some packages commented-out for optimization for nvidia export:\n",
    "\n",
    "Diff:\n",
    "```\n",
    "-# coremltools>=6.0  # CoreML export\n",
    "-# onnx>=1.12.0  # ONNX export\n",
    "-# onnx-simplifier>=0.4.1  # ONNX simplifier\n",
    "-# nvidia-pyindex  # TensorRT export\n",
    "-# nvidia-tensorrt  # TensorRT export\n",
    "+coremltools>=6.0  # CoreML export\n",
    "+onnx>=1.12.0  # ONNX export\n",
    "+onnx-simplifier>=0.4.1  # ONNX simplifier\n",
    "+nvidia-pyindex  # TensorRT export\n",
    "+nvidia-tensorrt  # TensorRT export\n",
    "```\n"
   ]
  },
  {
   "cell_type": "code",
   "execution_count": null,
   "metadata": {},
   "outputs": [],
   "source": [
    "# install dependencies as necessary\n",
    "!pip install -r ../yolov5/requirements.txt  # install dependencies (ignore errors)\n",
    "import torch\n",
    "\n",
    "from IPython.display import Image, clear_output  # to display images\n",
    "\n",
    "import sys\n",
    "sys.path.append(\"../yolov5/\") # add yolo code folder\n",
    "from utils.downloads import attempt_download  # to download models/datasets\n",
    "\n",
    "print('Setup complete. Using torch %s %s' % (torch.__version__, torch.cuda.get_device_properties(0) if torch.cuda.is_available() else 'CPU'))\n"
   ]
  },
  {
   "cell_type": "markdown",
   "metadata": {},
   "source": [
    "## Fix compatibility issue with specific yolo version and pillow package:\n",
    "- Seems to be a version conflivt for git version 064365d8683fd002e9ad789c1e91fa3d021b44f0 of yolov5"
   ]
  },
  {
   "cell_type": "code",
   "execution_count": null,
   "metadata": {},
   "outputs": [],
   "source": [
    "!pip install --force-reinstall -v \"Pillow==9.5\""
   ]
  }
 ],
 "metadata": {
  "kernelspec": {
   "display_name": "BeachBot",
   "language": "python",
   "name": "beachbot"
  },
  "language_info": {
   "codemirror_mode": {
    "name": "ipython",
    "version": 3
   },
   "file_extension": ".py",
   "mimetype": "text/x-python",
   "name": "python",
   "nbconvert_exporter": "python",
   "pygments_lexer": "ipython3",
   "version": "3.11.5"
  }
 },
 "nbformat": 4,
 "nbformat_minor": 5
}
