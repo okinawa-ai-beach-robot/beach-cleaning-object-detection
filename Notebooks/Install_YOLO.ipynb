{
 "cells": [
  {
   "cell_type": "markdown",
   "id": "09448477",
   "metadata": {},
   "source": [
    "## Download YOLO5:\n",
    "- clone git repository\n",
    "- checkout specific version"
   ]
  },
  {
   "cell_type": "code",
   "execution_count": null,
   "id": "364affde",
   "metadata": {},
   "outputs": [],
   "source": [
    "# clone YOLOv5 repository\n",
    "!git clone https://github.com/ultralytics/yolov5  # clone repo\n",
    "%cd yolov5\n",
    "!git reset --hard 064365d8683fd002e9ad789c1e91fa3d021b44f0 ##TODO consider using lates version"
   ]
  },
  {
   "cell_type": "markdown",
   "id": "e167c62f",
   "metadata": {},
   "source": [
    "## Install required python packages:\n",
    "- assumes `cd yolov5` was executed before\n",
    "- installs pytorch\n",
    "- installs requirements for yolo (takes a while, no status output, alternatively execute `pip install -r requirements.txt` in yolov5 folder)\n",
    "- Check file `yolov5/requirements.txt` there are some packages commented-out for optimization for nvidia export:\n",
    "\n",
    "Diff:\n",
    "```\n",
    "-# coremltools>=6.0  # CoreML export\n",
    "-# onnx>=1.12.0  # ONNX export\n",
    "-# onnx-simplifier>=0.4.1  # ONNX simplifier\n",
    "-# nvidia-pyindex  # TensorRT export\n",
    "-# nvidia-tensorrt  # TensorRT export\n",
    "+coremltools>=6.0  # CoreML export\n",
    "+onnx>=1.12.0  # ONNX export\n",
    "+onnx-simplifier>=0.4.1  # ONNX simplifier\n",
    "+nvidia-pyindex  # TensorRT export\n",
    "+nvidia-tensorrt  # TensorRT export\n",
    "```\n"
   ]
  },
  {
   "cell_type": "code",
   "execution_count": null,
   "id": "b7ea9893",
   "metadata": {},
   "outputs": [],
   "source": [
    "# install dependencies as necessary\n",
    "!pip install -qr requirements.txt  # install dependencies (ignore errors)\n",
    "import torch\n",
    "\n",
    "from IPython.display import Image, clear_output  # to display images\n",
    "from utils.downloads import attempt_download  # to download models/datasets\n",
    "\n",
    "# clear_output()\n",
    "print('Setup complete. Using torch %s %s' % (torch.__version__, torch.cuda.get_device_properties(0) if torch.cuda.is_available() else 'CPU'))\n"
   ]
  },
  {
   "cell_type": "markdown",
   "id": "4661f575",
   "metadata": {},
   "source": [
    "## Fix compatibility issue with specific yolo version and pillow package:\n",
    "- TODO consider upgrading (checkout) to latest yolo5 version"
   ]
  },
  {
   "cell_type": "code",
   "execution_count": null,
   "id": "4d203db7",
   "metadata": {},
   "outputs": [],
   "source": [
    "!pip install --force-reinstall -v \"Pillow==9.5\""
   ]
  },
  {
   "cell_type": "code",
   "execution_count": null,
   "id": "137d3683",
   "metadata": {},
   "outputs": [],
   "source": []
  }
 ],
 "metadata": {
  "kernelspec": {
   "display_name": "Python 3 (ipykernel)",
   "language": "python",
   "name": "python3"
  },
  "language_info": {
   "codemirror_mode": {
    "name": "ipython",
    "version": 3
   },
   "file_extension": ".py",
   "mimetype": "text/x-python",
   "name": "python",
   "nbconvert_exporter": "python",
   "pygments_lexer": "ipython3",
   "version": "3.11.6"
  }
 },
 "nbformat": 4,
 "nbformat_minor": 5
}
